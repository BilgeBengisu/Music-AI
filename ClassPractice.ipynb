{
 "cells": [
  {
   "cell_type": "code",
   "execution_count": 5,
   "id": "641d38f9-b834-46a7-8da9-020beefae0ec",
   "metadata": {},
   "outputs": [],
   "source": [
    "!pip install demucs"
   ]
  },
  {
   "cell_type": "code",
   "execution_count": 9,
   "id": "19aac0da-4f0d-45ae-9569-d0f78217f34e",
   "metadata": {},
   "outputs": [
    {
     "data": {
      "text/plain": [
       "'/Users/bilgebengisu/anaconda3/bin/python'"
      ]
     },
     "execution_count": 9,
     "metadata": {},
     "output_type": "execute_result"
    }
   ],
   "source": [
    "# print which python i'm using for jupyter and it will be the one of anaconda\n",
    "import sys\n",
    "sys.executable"
   ]
  },
  {
   "cell_type": "code",
   "execution_count": null,
   "id": "e1bcc71b-07fd-4d5d-a672-93f164be7ae1",
   "metadata": {},
   "outputs": [],
   "source": [
    "!/Users/bilgebengisu/anaconda3/bin/python -m path/to/audio.mp3"
   ]
  }
 ],
 "metadata": {
  "kernelspec": {
   "display_name": "Python 3.12.2 64-bit",
   "language": "python",
   "name": "python3"
  },
  "language_info": {
   "codemirror_mode": {
    "name": "ipython",
    "version": 3
   },
   "file_extension": ".py",
   "mimetype": "text/x-python",
   "name": "python",
   "nbconvert_exporter": "python",
   "pygments_lexer": "ipython3",
   "version": "3.12.2"
  },
  "vscode": {
   "interpreter": {
    "hash": "aee8b7b246df8f9039afb4144a1f6fd8d2ca17a180786b69acc140d282b71a49"
   }
  }
 },
 "nbformat": 4,
 "nbformat_minor": 5
}
